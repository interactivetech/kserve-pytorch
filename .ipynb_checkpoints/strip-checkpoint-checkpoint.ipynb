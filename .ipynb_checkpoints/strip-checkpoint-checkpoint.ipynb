{
 "cells": [
  {
   "cell_type": "code",
   "execution_count": 17,
   "id": "b6023e06-510e-4735-a1c4-03d62b961ad1",
   "metadata": {
    "tags": []
   },
   "outputs": [],
   "source": [
    "import torch"
   ]
  },
  {
   "cell_type": "code",
   "execution_count": 18,
   "id": "e4433a0f-0ea5-4c59-86ff-c9061924ba97",
   "metadata": {
    "tags": []
   },
   "outputs": [],
   "source": [
    "ckpt = torch.load('model_8.pth')"
   ]
  },
  {
   "cell_type": "code",
   "execution_count": 19,
   "id": "508f3bb7-b69a-4e7e-84d0-07ddc28c949d",
   "metadata": {
    "tags": []
   },
   "outputs": [
    {
     "data": {
      "text/plain": [
       "odict_keys(['backbone.body.conv1.weight', 'backbone.body.bn1.weight', 'backbone.body.bn1.bias', 'backbone.body.bn1.running_mean', 'backbone.body.bn1.running_var', 'backbone.body.layer1.0.conv1.weight', 'backbone.body.layer1.0.bn1.weight', 'backbone.body.layer1.0.bn1.bias', 'backbone.body.layer1.0.bn1.running_mean', 'backbone.body.layer1.0.bn1.running_var', 'backbone.body.layer1.0.conv2.weight', 'backbone.body.layer1.0.bn2.weight', 'backbone.body.layer1.0.bn2.bias', 'backbone.body.layer1.0.bn2.running_mean', 'backbone.body.layer1.0.bn2.running_var', 'backbone.body.layer1.0.conv3.weight', 'backbone.body.layer1.0.bn3.weight', 'backbone.body.layer1.0.bn3.bias', 'backbone.body.layer1.0.bn3.running_mean', 'backbone.body.layer1.0.bn3.running_var', 'backbone.body.layer1.0.downsample.0.weight', 'backbone.body.layer1.0.downsample.1.weight', 'backbone.body.layer1.0.downsample.1.bias', 'backbone.body.layer1.0.downsample.1.running_mean', 'backbone.body.layer1.0.downsample.1.running_var', 'backbone.body.layer1.1.conv1.weight', 'backbone.body.layer1.1.bn1.weight', 'backbone.body.layer1.1.bn1.bias', 'backbone.body.layer1.1.bn1.running_mean', 'backbone.body.layer1.1.bn1.running_var', 'backbone.body.layer1.1.conv2.weight', 'backbone.body.layer1.1.bn2.weight', 'backbone.body.layer1.1.bn2.bias', 'backbone.body.layer1.1.bn2.running_mean', 'backbone.body.layer1.1.bn2.running_var', 'backbone.body.layer1.1.conv3.weight', 'backbone.body.layer1.1.bn3.weight', 'backbone.body.layer1.1.bn3.bias', 'backbone.body.layer1.1.bn3.running_mean', 'backbone.body.layer1.1.bn3.running_var', 'backbone.body.layer1.2.conv1.weight', 'backbone.body.layer1.2.bn1.weight', 'backbone.body.layer1.2.bn1.bias', 'backbone.body.layer1.2.bn1.running_mean', 'backbone.body.layer1.2.bn1.running_var', 'backbone.body.layer1.2.conv2.weight', 'backbone.body.layer1.2.bn2.weight', 'backbone.body.layer1.2.bn2.bias', 'backbone.body.layer1.2.bn2.running_mean', 'backbone.body.layer1.2.bn2.running_var', 'backbone.body.layer1.2.conv3.weight', 'backbone.body.layer1.2.bn3.weight', 'backbone.body.layer1.2.bn3.bias', 'backbone.body.layer1.2.bn3.running_mean', 'backbone.body.layer1.2.bn3.running_var', 'backbone.body.layer2.0.conv1.weight', 'backbone.body.layer2.0.bn1.weight', 'backbone.body.layer2.0.bn1.bias', 'backbone.body.layer2.0.bn1.running_mean', 'backbone.body.layer2.0.bn1.running_var', 'backbone.body.layer2.0.conv2.weight', 'backbone.body.layer2.0.bn2.weight', 'backbone.body.layer2.0.bn2.bias', 'backbone.body.layer2.0.bn2.running_mean', 'backbone.body.layer2.0.bn2.running_var', 'backbone.body.layer2.0.conv3.weight', 'backbone.body.layer2.0.bn3.weight', 'backbone.body.layer2.0.bn3.bias', 'backbone.body.layer2.0.bn3.running_mean', 'backbone.body.layer2.0.bn3.running_var', 'backbone.body.layer2.0.downsample.0.weight', 'backbone.body.layer2.0.downsample.1.weight', 'backbone.body.layer2.0.downsample.1.bias', 'backbone.body.layer2.0.downsample.1.running_mean', 'backbone.body.layer2.0.downsample.1.running_var', 'backbone.body.layer2.1.conv1.weight', 'backbone.body.layer2.1.bn1.weight', 'backbone.body.layer2.1.bn1.bias', 'backbone.body.layer2.1.bn1.running_mean', 'backbone.body.layer2.1.bn1.running_var', 'backbone.body.layer2.1.conv2.weight', 'backbone.body.layer2.1.bn2.weight', 'backbone.body.layer2.1.bn2.bias', 'backbone.body.layer2.1.bn2.running_mean', 'backbone.body.layer2.1.bn2.running_var', 'backbone.body.layer2.1.conv3.weight', 'backbone.body.layer2.1.bn3.weight', 'backbone.body.layer2.1.bn3.bias', 'backbone.body.layer2.1.bn3.running_mean', 'backbone.body.layer2.1.bn3.running_var', 'backbone.body.layer2.2.conv1.weight', 'backbone.body.layer2.2.bn1.weight', 'backbone.body.layer2.2.bn1.bias', 'backbone.body.layer2.2.bn1.running_mean', 'backbone.body.layer2.2.bn1.running_var', 'backbone.body.layer2.2.conv2.weight', 'backbone.body.layer2.2.bn2.weight', 'backbone.body.layer2.2.bn2.bias', 'backbone.body.layer2.2.bn2.running_mean', 'backbone.body.layer2.2.bn2.running_var', 'backbone.body.layer2.2.conv3.weight', 'backbone.body.layer2.2.bn3.weight', 'backbone.body.layer2.2.bn3.bias', 'backbone.body.layer2.2.bn3.running_mean', 'backbone.body.layer2.2.bn3.running_var', 'backbone.body.layer2.3.conv1.weight', 'backbone.body.layer2.3.bn1.weight', 'backbone.body.layer2.3.bn1.bias', 'backbone.body.layer2.3.bn1.running_mean', 'backbone.body.layer2.3.bn1.running_var', 'backbone.body.layer2.3.conv2.weight', 'backbone.body.layer2.3.bn2.weight', 'backbone.body.layer2.3.bn2.bias', 'backbone.body.layer2.3.bn2.running_mean', 'backbone.body.layer2.3.bn2.running_var', 'backbone.body.layer2.3.conv3.weight', 'backbone.body.layer2.3.bn3.weight', 'backbone.body.layer2.3.bn3.bias', 'backbone.body.layer2.3.bn3.running_mean', 'backbone.body.layer2.3.bn3.running_var', 'backbone.body.layer3.0.conv1.weight', 'backbone.body.layer3.0.bn1.weight', 'backbone.body.layer3.0.bn1.bias', 'backbone.body.layer3.0.bn1.running_mean', 'backbone.body.layer3.0.bn1.running_var', 'backbone.body.layer3.0.conv2.weight', 'backbone.body.layer3.0.bn2.weight', 'backbone.body.layer3.0.bn2.bias', 'backbone.body.layer3.0.bn2.running_mean', 'backbone.body.layer3.0.bn2.running_var', 'backbone.body.layer3.0.conv3.weight', 'backbone.body.layer3.0.bn3.weight', 'backbone.body.layer3.0.bn3.bias', 'backbone.body.layer3.0.bn3.running_mean', 'backbone.body.layer3.0.bn3.running_var', 'backbone.body.layer3.0.downsample.0.weight', 'backbone.body.layer3.0.downsample.1.weight', 'backbone.body.layer3.0.downsample.1.bias', 'backbone.body.layer3.0.downsample.1.running_mean', 'backbone.body.layer3.0.downsample.1.running_var', 'backbone.body.layer3.1.conv1.weight', 'backbone.body.layer3.1.bn1.weight', 'backbone.body.layer3.1.bn1.bias', 'backbone.body.layer3.1.bn1.running_mean', 'backbone.body.layer3.1.bn1.running_var', 'backbone.body.layer3.1.conv2.weight', 'backbone.body.layer3.1.bn2.weight', 'backbone.body.layer3.1.bn2.bias', 'backbone.body.layer3.1.bn2.running_mean', 'backbone.body.layer3.1.bn2.running_var', 'backbone.body.layer3.1.conv3.weight', 'backbone.body.layer3.1.bn3.weight', 'backbone.body.layer3.1.bn3.bias', 'backbone.body.layer3.1.bn3.running_mean', 'backbone.body.layer3.1.bn3.running_var', 'backbone.body.layer3.2.conv1.weight', 'backbone.body.layer3.2.bn1.weight', 'backbone.body.layer3.2.bn1.bias', 'backbone.body.layer3.2.bn1.running_mean', 'backbone.body.layer3.2.bn1.running_var', 'backbone.body.layer3.2.conv2.weight', 'backbone.body.layer3.2.bn2.weight', 'backbone.body.layer3.2.bn2.bias', 'backbone.body.layer3.2.bn2.running_mean', 'backbone.body.layer3.2.bn2.running_var', 'backbone.body.layer3.2.conv3.weight', 'backbone.body.layer3.2.bn3.weight', 'backbone.body.layer3.2.bn3.bias', 'backbone.body.layer3.2.bn3.running_mean', 'backbone.body.layer3.2.bn3.running_var', 'backbone.body.layer3.3.conv1.weight', 'backbone.body.layer3.3.bn1.weight', 'backbone.body.layer3.3.bn1.bias', 'backbone.body.layer3.3.bn1.running_mean', 'backbone.body.layer3.3.bn1.running_var', 'backbone.body.layer3.3.conv2.weight', 'backbone.body.layer3.3.bn2.weight', 'backbone.body.layer3.3.bn2.bias', 'backbone.body.layer3.3.bn2.running_mean', 'backbone.body.layer3.3.bn2.running_var', 'backbone.body.layer3.3.conv3.weight', 'backbone.body.layer3.3.bn3.weight', 'backbone.body.layer3.3.bn3.bias', 'backbone.body.layer3.3.bn3.running_mean', 'backbone.body.layer3.3.bn3.running_var', 'backbone.body.layer3.4.conv1.weight', 'backbone.body.layer3.4.bn1.weight', 'backbone.body.layer3.4.bn1.bias', 'backbone.body.layer3.4.bn1.running_mean', 'backbone.body.layer3.4.bn1.running_var', 'backbone.body.layer3.4.conv2.weight', 'backbone.body.layer3.4.bn2.weight', 'backbone.body.layer3.4.bn2.bias', 'backbone.body.layer3.4.bn2.running_mean', 'backbone.body.layer3.4.bn2.running_var', 'backbone.body.layer3.4.conv3.weight', 'backbone.body.layer3.4.bn3.weight', 'backbone.body.layer3.4.bn3.bias', 'backbone.body.layer3.4.bn3.running_mean', 'backbone.body.layer3.4.bn3.running_var', 'backbone.body.layer3.5.conv1.weight', 'backbone.body.layer3.5.bn1.weight', 'backbone.body.layer3.5.bn1.bias', 'backbone.body.layer3.5.bn1.running_mean', 'backbone.body.layer3.5.bn1.running_var', 'backbone.body.layer3.5.conv2.weight', 'backbone.body.layer3.5.bn2.weight', 'backbone.body.layer3.5.bn2.bias', 'backbone.body.layer3.5.bn2.running_mean', 'backbone.body.layer3.5.bn2.running_var', 'backbone.body.layer3.5.conv3.weight', 'backbone.body.layer3.5.bn3.weight', 'backbone.body.layer3.5.bn3.bias', 'backbone.body.layer3.5.bn3.running_mean', 'backbone.body.layer3.5.bn3.running_var', 'backbone.body.layer4.0.conv1.weight', 'backbone.body.layer4.0.bn1.weight', 'backbone.body.layer4.0.bn1.bias', 'backbone.body.layer4.0.bn1.running_mean', 'backbone.body.layer4.0.bn1.running_var', 'backbone.body.layer4.0.conv2.weight', 'backbone.body.layer4.0.bn2.weight', 'backbone.body.layer4.0.bn2.bias', 'backbone.body.layer4.0.bn2.running_mean', 'backbone.body.layer4.0.bn2.running_var', 'backbone.body.layer4.0.conv3.weight', 'backbone.body.layer4.0.bn3.weight', 'backbone.body.layer4.0.bn3.bias', 'backbone.body.layer4.0.bn3.running_mean', 'backbone.body.layer4.0.bn3.running_var', 'backbone.body.layer4.0.downsample.0.weight', 'backbone.body.layer4.0.downsample.1.weight', 'backbone.body.layer4.0.downsample.1.bias', 'backbone.body.layer4.0.downsample.1.running_mean', 'backbone.body.layer4.0.downsample.1.running_var', 'backbone.body.layer4.1.conv1.weight', 'backbone.body.layer4.1.bn1.weight', 'backbone.body.layer4.1.bn1.bias', 'backbone.body.layer4.1.bn1.running_mean', 'backbone.body.layer4.1.bn1.running_var', 'backbone.body.layer4.1.conv2.weight', 'backbone.body.layer4.1.bn2.weight', 'backbone.body.layer4.1.bn2.bias', 'backbone.body.layer4.1.bn2.running_mean', 'backbone.body.layer4.1.bn2.running_var', 'backbone.body.layer4.1.conv3.weight', 'backbone.body.layer4.1.bn3.weight', 'backbone.body.layer4.1.bn3.bias', 'backbone.body.layer4.1.bn3.running_mean', 'backbone.body.layer4.1.bn3.running_var', 'backbone.body.layer4.2.conv1.weight', 'backbone.body.layer4.2.bn1.weight', 'backbone.body.layer4.2.bn1.bias', 'backbone.body.layer4.2.bn1.running_mean', 'backbone.body.layer4.2.bn1.running_var', 'backbone.body.layer4.2.conv2.weight', 'backbone.body.layer4.2.bn2.weight', 'backbone.body.layer4.2.bn2.bias', 'backbone.body.layer4.2.bn2.running_mean', 'backbone.body.layer4.2.bn2.running_var', 'backbone.body.layer4.2.conv3.weight', 'backbone.body.layer4.2.bn3.weight', 'backbone.body.layer4.2.bn3.bias', 'backbone.body.layer4.2.bn3.running_mean', 'backbone.body.layer4.2.bn3.running_var', 'backbone.fpn.inner_blocks.0.weight', 'backbone.fpn.inner_blocks.0.bias', 'backbone.fpn.inner_blocks.1.weight', 'backbone.fpn.inner_blocks.1.bias', 'backbone.fpn.inner_blocks.2.weight', 'backbone.fpn.inner_blocks.2.bias', 'backbone.fpn.inner_blocks.3.weight', 'backbone.fpn.inner_blocks.3.bias', 'backbone.fpn.layer_blocks.0.weight', 'backbone.fpn.layer_blocks.0.bias', 'backbone.fpn.layer_blocks.1.weight', 'backbone.fpn.layer_blocks.1.bias', 'backbone.fpn.layer_blocks.2.weight', 'backbone.fpn.layer_blocks.2.bias', 'backbone.fpn.layer_blocks.3.weight', 'backbone.fpn.layer_blocks.3.bias', 'rpn.head.conv.weight', 'rpn.head.conv.bias', 'rpn.head.cls_logits.weight', 'rpn.head.cls_logits.bias', 'rpn.head.bbox_pred.weight', 'rpn.head.bbox_pred.bias', 'roi_heads.box_head.fc6.weight', 'roi_heads.box_head.fc6.bias', 'roi_heads.box_head.fc7.weight', 'roi_heads.box_head.fc7.bias', 'roi_heads.box_predictor.cls_score.weight', 'roi_heads.box_predictor.cls_score.bias', 'roi_heads.box_predictor.bbox_pred.weight', 'roi_heads.box_predictor.bbox_pred.bias'])"
      ]
     },
     "execution_count": 19,
     "metadata": {},
     "output_type": "execute_result"
    }
   ],
   "source": [
    "ckpt['model'].keys()"
   ]
  },
  {
   "cell_type": "code",
   "execution_count": 39,
   "id": "c4b52d37-3462-4f09-9267-0cc18c55cc0b",
   "metadata": {
    "tags": []
   },
   "outputs": [],
   "source": [
    "from torchvision.models.detection.faster_rcnn import FasterRCNN\n",
    "from torchvision.models.detection.backbone_utils import resnet_fpn_backbone\n",
    "import torchvision\n",
    "from torchvision.models.detection.faster_rcnn import FastRCNNPredictor\n",
    "class FRCNNObjectDetector(FasterRCNN):\n",
    "    def __init__(self, num_classes=61, **kwargs):\n",
    "        \n",
    "        backbone = resnet_fpn_backbone('resnet50', True)\n",
    "        # backbone = torchvision.models.detection.fasterrcnn_resnet50_fpn(pretrained=False)\n",
    "        # in_features = model.roi_heads.box_predictor.cls_score.in_features\n",
    "        # replace the pre-trained head with a new one\n",
    "        # backbone.roi_heads.box_predictor = FastRCNNPredictor(in_features, num_classes)\n",
    "        super(FRCNNObjectDetector, self).__init__(backbone, num_classes, **kwargs)\n"
   ]
  },
  {
   "cell_type": "code",
   "execution_count": 41,
   "id": "511ea540-1fe5-4ba6-9f0b-09dd0f135d61",
   "metadata": {
    "tags": []
   },
   "outputs": [],
   "source": [
    "# model = FRCNNObjectDetector(num_classes=61)\n",
    "# model = torchvision.models.detection.fasterrcnn_resnet50_fpn(pretrained=False)\n",
    "# in_features = model.roi_heads.box_predictor.cls_score.in_features\n",
    "# # replace the pre-trained head with a new one\n",
    "# model.roi_heads.box_predictor = FastRCNNPredictor(in_features, 61)\n",
    "model = FRCNNObjectDetector()"
   ]
  },
  {
   "cell_type": "code",
   "execution_count": 42,
   "id": "4cae2674-ccb7-4817-ac45-852e916a8bbc",
   "metadata": {
    "tags": []
   },
   "outputs": [
    {
     "data": {
      "text/plain": [
       "<All keys matched successfully>"
      ]
     },
     "execution_count": 42,
     "metadata": {},
     "output_type": "execute_result"
    }
   ],
   "source": [
    "model.load_state_dict(ckpt['model'])"
   ]
  },
  {
   "cell_type": "code",
   "execution_count": 43,
   "id": "6700b6b3-485c-4164-832a-75fc319984ef",
   "metadata": {
    "tags": []
   },
   "outputs": [],
   "source": [
    "torch.save(model.state_dict(),\"model_8_stripped.pth\")"
   ]
  },
  {
   "cell_type": "code",
   "execution_count": 44,
   "id": "ec3aeea0-15d6-4a19-a92d-e7d07d9468b5",
   "metadata": {},
   "outputs": [],
   "source": [
    "# model = resnet_fpn_backbone('resnet50',False)\n",
    "# model.load_state_dict(torch.load('model_8_stripped.pth'))"
   ]
  },
  {
   "cell_type": "code",
   "execution_count": null,
   "id": "f4e6759c-6f35-4855-a4ff-c37860190ff7",
   "metadata": {},
   "outputs": [],
   "source": []
  }
 ],
 "metadata": {
  "kernelspec": {
   "display_name": "Python 3 (ipykernel)",
   "language": "python",
   "name": "python3"
  },
  "language_info": {
   "codemirror_mode": {
    "name": "ipython",
    "version": 3
   },
   "file_extension": ".py",
   "mimetype": "text/x-python",
   "name": "python",
   "nbconvert_exporter": "python",
   "pygments_lexer": "ipython3",
   "version": "3.8.10"
  }
 },
 "nbformat": 4,
 "nbformat_minor": 5
}
